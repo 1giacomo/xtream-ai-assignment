{
  "nbformat": 4,
  "nbformat_minor": 0,
  "metadata": {
    "colab": {
      "provenance": [],
      "authorship_tag": "ABX9TyMzO3NK+Zt8uLphqtayGOpi"
    },
    "kernelspec": {
      "name": "python3",
      "display_name": "Python 3"
    },
    "language_info": {
      "name": "python"
    }
  },
  "cells": [
    {
      "cell_type": "markdown",
      "source": [
        "# Challenge 2: Model that predicts a gem's worth based on its characteristics\n",
        "\n",
        "Author: Giacomo Rossi\n",
        "\n",
        "Repository: [1giacomo/xtream-ai-assignment](https://github.com/1giacomo/xtream-ai-assignment)\n",
        "\n",
        "LinkedIn: [giacomo-rossi-100](https://www.linkedin.com/in/giacomo-rossi-100/)\n",
        "\n",
        "[Go to Challenge 1](https://colab.research.google.com/drive/1wkIHYESKVFetaFaZ9ZWnE3EZC6939grY)"
      ],
      "metadata": {
        "id": "rBaff5CKpmGp"
      }
    }
  ]
}